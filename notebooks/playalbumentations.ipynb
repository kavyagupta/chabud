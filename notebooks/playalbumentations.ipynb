{
 "cells": [
  {
   "cell_type": "code",
   "execution_count": 5,
   "id": "102b7743-5db5-43b2-9615-d9a2ab94cfc9",
   "metadata": {},
   "outputs": [],
   "source": [
    "import albumentations as A\n",
    "import numpy as np"
   ]
  },
  {
   "cell_type": "code",
   "execution_count": 6,
   "id": "9de3bf02-1322-47eb-86ab-36dbef0db1be",
   "metadata": {},
   "outputs": [],
   "source": [
    "transform = A.Compose([\n",
    "    A.RandomCrop(width=256, height=256),\n",
    "    A.HorizontalFlip(p=0.5),\n",
    "    A.RandomBrightnessContrast(p=0.2),\n",
    "])\n"
   ]
  },
  {
   "cell_type": "code",
   "execution_count": 7,
   "id": "68fd56d2-2939-49ea-a7be-7d2e675a002e",
   "metadata": {},
   "outputs": [
    {
     "data": {
      "text/plain": [
       "Compose([\n",
       "  RandomCrop(always_apply=False, p=1.0, height=256, width=256),\n",
       "  HorizontalFlip(always_apply=False, p=0.5),\n",
       "  RandomBrightnessContrast(always_apply=False, p=0.2, brightness_limit=(-0.2, 0.2), contrast_limit=(-0.2, 0.2), brightness_by_max=True),\n",
       "], p=1.0, bbox_params=None, keypoint_params=None, additional_targets={})"
      ]
     },
     "execution_count": 7,
     "metadata": {},
     "output_type": "execute_result"
    }
   ],
   "source": [
    "transform"
   ]
  },
  {
   "cell_type": "code",
   "execution_count": 18,
   "id": "b9067761-e45f-4f95-98ac-494836d78bc3",
   "metadata": {},
   "outputs": [],
   "source": [
    "A = np.random.rand(512,512,12)"
   ]
  },
  {
   "cell_type": "code",
   "execution_count": 19,
   "id": "23841a03-57d8-48bc-b349-2d044a1f7172",
   "metadata": {},
   "outputs": [],
   "source": [
    "transformed = transform(image=A)"
   ]
  },
  {
   "cell_type": "code",
   "execution_count": 26,
   "id": "f03b86c4-3efd-4031-8477-ee3a393c401a",
   "metadata": {},
   "outputs": [
    {
     "data": {
      "text/plain": [
       "numpy.ndarray"
      ]
     },
     "execution_count": 26,
     "metadata": {},
     "output_type": "execute_result"
    }
   ],
   "source": [
    "type(transformed['image'])"
   ]
  },
  {
   "cell_type": "raw",
   "id": "cf838912-c7d9-4e78-a4a5-15a434168e81",
   "metadata": {},
   "source": [
    "transformed['image'].transpose(2,1,0).shape"
   ]
  },
  {
   "cell_type": "code",
   "execution_count": null,
   "id": "a11bb32a-37e6-422a-8733-334438c0929b",
   "metadata": {},
   "outputs": [],
   "source": []
  }
 ],
 "metadata": {
  "kernelspec": {
   "display_name": "Python 3 (ipykernel)",
   "language": "python",
   "name": "python3"
  },
  "language_info": {
   "codemirror_mode": {
    "name": "ipython",
    "version": 3
   },
   "file_extension": ".py",
   "mimetype": "text/x-python",
   "name": "python",
   "nbconvert_exporter": "python",
   "pygments_lexer": "ipython3",
   "version": "3.10.4"
  }
 },
 "nbformat": 4,
 "nbformat_minor": 5
}
