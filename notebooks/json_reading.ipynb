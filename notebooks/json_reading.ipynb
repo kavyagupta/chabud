{
 "cells": [
  {
   "cell_type": "code",
   "execution_count": 1,
   "id": "16094adf-9c74-4531-abdf-23494b186fe1",
   "metadata": {},
   "outputs": [],
   "source": [
    "import json\n",
    "import base64\n",
    "import cv2\n",
    "import numpy as np\n",
    "import io\n",
    "import rasterio as rio\n",
    "from rasterio.plot import show"
   ]
  },
  {
   "cell_type": "code",
   "execution_count": 11,
   "id": "9b0d97b8-8827-48e7-bb75-c3339407b9e4",
   "metadata": {},
   "outputs": [],
   "source": [
    "from matplotlib import pyplot"
   ]
  },
  {
   "cell_type": "code",
   "execution_count": 5,
   "id": "0e2fc84b-0bcd-493e-8841-474ad171dd4c",
   "metadata": {},
   "outputs": [],
   "source": [
    "f = open('../data/vectors/Original_Split-20230524T135331/MASK/metadata.json')\n",
    "data = json.load(f)\n",
    "train_list = data['dataset']['train']\n",
    "val_list = data['dataset']['val']"
   ]
  },
  {
   "cell_type": "code",
   "execution_count": 8,
   "id": "ebe782b7-cc89-4d76-b036-38e2de2b6b6c",
   "metadata": {},
   "outputs": [],
   "source": [
    "data['dataset']['train'] = list(set(train_list))\n",
    "data['dataset']['val'] = list(set(val_list))"
   ]
  },
  {
   "cell_type": "code",
   "execution_count": 10,
   "id": "d8a8b16a-035f-458e-9222-f22edac72957",
   "metadata": {},
   "outputs": [],
   "source": [
    "fout = open('../data/vectors/Original_Split-20230524T135331/MASK/metadata.json', 'w')\n",
    "json.dump(data, fout)\n",
    "fout.close()"
   ]
  },
  {
   "cell_type": "code",
   "execution_count": 12,
   "id": "06ca0bdf-8017-41b4-a0b4-3a8775e907ca",
   "metadata": {},
   "outputs": [],
   "source": [
    "# f = open(json_path)\n",
    "# data = json.load(f)\n",
    "# file = os.path.join('../',data[\"images\"][0][\"file_name\"])\n",
    "\n",
    "# img_pre = rio.open(os.path.join('../',data[\"images\"][0][\"file_name\"]))\n",
    "# show(img_pre)\n",
    "# img_post = rio.open(os.path.join('../',data[\"images\"][1][\"file_name\"]))\n",
    "# show(img_post)\n",
    "# mask_string = os.path.join('../',data[\"properties\"][0][\"labels\"][0])\n",
    "\n",
    "# print(img_pre.shape)\n",
    "# im1 = np.transpose(img_pre, (2,1,0))\n",
    "# im1.shape"
   ]
  },
  {
   "cell_type": "code",
   "execution_count": null,
   "id": "7a8b559c-bc3b-4ebf-a689-1fcdb38eee4e",
   "metadata": {},
   "outputs": [],
   "source": []
  },
  {
   "cell_type": "code",
   "execution_count": 33,
   "id": "af10f095-c283-49f9-ae7a-55cc627fbe09",
   "metadata": {},
   "outputs": [],
   "source": [
    "from skimage import transform\n",
    "\n",
    "class Rescale_train(object):\n",
    "    def __init__(self, output_size):\n",
    "        assert isinstance(output_size, (int, tuple))\n",
    "        self.output_size = output_size\n",
    "\n",
    "    def __call__(self, image):\n",
    "        channels = image.shape[0]\n",
    "        img = transform.resize(image, (channels, self.output_size, self.output_size))\n",
    "\n",
    "        return img\n",
    "    \n",
    "scale = Rescale_train(256)\n",
    "img = scale.__call__(img_pre)\n"
   ]
  },
  {
   "cell_type": "code",
   "execution_count": 35,
   "id": "428bb167-9020-42b5-9edd-f0edab1baeff",
   "metadata": {},
   "outputs": [
    {
     "data": {
      "text/plain": [
       "(12, 256, 256)"
      ]
     },
     "execution_count": 35,
     "metadata": {},
     "output_type": "execute_result"
    }
   ],
   "source": [
    "img.shape"
   ]
  },
  {
   "cell_type": "code",
   "execution_count": 10,
   "id": "ab1e260f-fd26-400a-8d6b-d6465a59bc92",
   "metadata": {},
   "outputs": [],
   "source": [
    "import os\n",
    "json_paths = '../vectors/Original_Split-20230524T135331/MASK'"
   ]
  },
  {
   "cell_type": "code",
   "execution_count": 11,
   "id": "b38ff426-8ddc-4f92-bf6c-7be165dc2945",
   "metadata": {},
   "outputs": [
    {
     "data": {
      "text/plain": [
       "'../vectors/Original_Split-20230524T135331/MASK/012b8863-976c-44e1-a491-9adf19c1cbba_0.json'"
      ]
     },
     "execution_count": 11,
     "metadata": {},
     "output_type": "execute_result"
    }
   ],
   "source": [
    "json_path = os.path.join(json_paths, train_list[0])\n",
    "json_path"
   ]
  },
  {
   "cell_type": "code",
   "execution_count": 12,
   "id": "79ec5d12-8e73-4a33-af1a-9ff82cb0668f",
   "metadata": {},
   "outputs": [
    {
     "data": {
      "text/plain": [
       "'rasters/raw/daa18714-d0dd-4a6b-8824-ea3819305e7d_22_pre.tif'"
      ]
     },
     "execution_count": 12,
     "metadata": {},
     "output_type": "execute_result"
    }
   ],
   "source": [
    "data['images'][0]['file_name']"
   ]
  },
  {
   "cell_type": "code",
   "execution_count": 6,
   "id": "de157d96-5df3-43e0-a008-a19d4e346dc8",
   "metadata": {},
   "outputs": [
    {
     "data": {
      "text/plain": [
       "'rasters/raw/daa18714-d0dd-4a6b-8824-ea3819305e7d_22_post.tif'"
      ]
     },
     "execution_count": 6,
     "metadata": {},
     "output_type": "execute_result"
    }
   ],
   "source": [
    "data['images'][1]['file_name']"
   ]
  },
  {
   "cell_type": "code",
   "execution_count": 53,
   "id": "816a0a91-4bbe-44c1-9e50-28a42e5ada59",
   "metadata": {},
   "outputs": [
    {
     "data": {
      "text/plain": [
       "array([[0, 0, 0, ..., 0, 0, 0],\n",
       "       [0, 0, 0, ..., 0, 0, 0],\n",
       "       [0, 0, 0, ..., 0, 0, 0],\n",
       "       ...,\n",
       "       [0, 0, 0, ..., 0, 0, 0],\n",
       "       [0, 0, 0, ..., 0, 0, 0],\n",
       "       [0, 0, 0, ..., 0, 0, 0]], dtype=uint8)"
      ]
     },
     "execution_count": 53,
     "metadata": {},
     "output_type": "execute_result"
    }
   ],
   "source": [
    "\n",
    "base64_decoded = base64.b64decode(data['properties'][0]['labels'][0])\n",
    "image = Image.open(io.BytesIO(base64_decoded))\n",
    "image_np = np.array(image)\n",
    "image_np"
   ]
  },
  {
   "cell_type": "code",
   "execution_count": 49,
   "id": "6cc13349-ba90-4480-9943-c1127524ba71",
   "metadata": {},
   "outputs": [
    {
     "ename": "error",
     "evalue": "OpenCV(4.7.0) :-1: error: (-5:Bad argument) in function 'imdecode'\n> Overload resolution failed:\n>  - imdecode() missing required argument 'flags' (pos 2)\n>  - imdecode() missing required argument 'flags' (pos 2)\n",
     "output_type": "error",
     "traceback": [
      "\u001b[0;31m---------------------------------------------------------------------------\u001b[0m",
      "\u001b[0;31merror\u001b[0m                                     Traceback (most recent call last)",
      "Cell \u001b[0;32mIn[49], line 1\u001b[0m\n\u001b[0;32m----> 1\u001b[0m \u001b[43mcv2\u001b[49m\u001b[38;5;241;43m.\u001b[39;49m\u001b[43mimdecode\u001b[49m\u001b[43m(\u001b[49m\u001b[43mbase64\u001b[49m\u001b[38;5;241;43m.\u001b[39;49m\u001b[43mb64decode\u001b[49m\u001b[43m(\u001b[49m\u001b[43mdata\u001b[49m\u001b[43m[\u001b[49m\u001b[38;5;124;43m'\u001b[39;49m\u001b[38;5;124;43mproperties\u001b[39;49m\u001b[38;5;124;43m'\u001b[39;49m\u001b[43m]\u001b[49m\u001b[43m[\u001b[49m\u001b[38;5;241;43m0\u001b[39;49m\u001b[43m]\u001b[49m\u001b[43m[\u001b[49m\u001b[38;5;124;43m'\u001b[39;49m\u001b[38;5;124;43mlabels\u001b[39;49m\u001b[38;5;124;43m'\u001b[39;49m\u001b[43m]\u001b[49m\u001b[43m[\u001b[49m\u001b[38;5;241;43m0\u001b[39;49m\u001b[43m]\u001b[49m\u001b[38;5;241;43m.\u001b[39;49m\u001b[43mencode\u001b[49m\u001b[43m(\u001b[49m\u001b[43m)\u001b[49m\u001b[43m)\u001b[49m\u001b[43m)\u001b[49m\n",
      "\u001b[0;31merror\u001b[0m: OpenCV(4.7.0) :-1: error: (-5:Bad argument) in function 'imdecode'\n> Overload resolution failed:\n>  - imdecode() missing required argument 'flags' (pos 2)\n>  - imdecode() missing required argument 'flags' (pos 2)\n"
     ]
    }
   ],
   "source": [
    "cv2.imdecode(base64.b64decode(data['properties'][0]['labels'][0].encode()))"
   ]
  },
  {
   "cell_type": "code",
   "execution_count": 10,
   "id": "f7fe4262-9c7b-49a8-a8a4-5786176dd484",
   "metadata": {},
   "outputs": [],
   "source": [
    "import os\n",
    "from PIL import Image\n",
    "from torchvision.transforms import ToTensor"
   ]
  },
  {
   "cell_type": "code",
   "execution_count": 13,
   "id": "631b34b6-47fc-424b-a75d-77e1628627ba",
   "metadata": {},
   "outputs": [
    {
     "name": "stderr",
     "output_type": "stream",
     "text": [
      "More samples per pixel than can be decoded: 12\n"
     ]
    },
    {
     "ename": "UnidentifiedImageError",
     "evalue": "cannot identify image file 'rasters/raw/daa18714-d0dd-4a6b-8824-ea3819305e7d_22_pre.tif'",
     "output_type": "error",
     "traceback": [
      "\u001b[0;31m---------------------------------------------------------------------------\u001b[0m",
      "\u001b[0;31mUnidentifiedImageError\u001b[0m                    Traceback (most recent call last)",
      "Cell \u001b[0;32mIn[13], line 1\u001b[0m\n\u001b[0;32m----> 1\u001b[0m img_pre \u001b[38;5;241m=\u001b[39m \u001b[43mImage\u001b[49m\u001b[38;5;241;43m.\u001b[39;49m\u001b[43mopen\u001b[49m\u001b[43m(\u001b[49m\u001b[43mdata\u001b[49m\u001b[43m[\u001b[49m\u001b[38;5;124;43m'\u001b[39;49m\u001b[38;5;124;43mimages\u001b[39;49m\u001b[38;5;124;43m'\u001b[39;49m\u001b[43m]\u001b[49m\u001b[43m[\u001b[49m\u001b[38;5;241;43m0\u001b[39;49m\u001b[43m]\u001b[49m\u001b[43m[\u001b[49m\u001b[38;5;124;43m'\u001b[39;49m\u001b[38;5;124;43mfile_name\u001b[39;49m\u001b[38;5;124;43m'\u001b[39;49m\u001b[43m]\u001b[49m\u001b[43m)\u001b[49m\n\u001b[1;32m      2\u001b[0m image \u001b[38;5;241m=\u001b[39m ToTensor()(image)\n",
      "File \u001b[0;32m~/miniconda3/envs/play/lib/python3.11/site-packages/PIL/Image.py:3298\u001b[0m, in \u001b[0;36mopen\u001b[0;34m(fp, mode, formats)\u001b[0m\n\u001b[1;32m   3296\u001b[0m     warnings\u001b[38;5;241m.\u001b[39mwarn(message)\n\u001b[1;32m   3297\u001b[0m msg \u001b[38;5;241m=\u001b[39m \u001b[38;5;124m\"\u001b[39m\u001b[38;5;124mcannot identify image file \u001b[39m\u001b[38;5;132;01m%r\u001b[39;00m\u001b[38;5;124m\"\u001b[39m \u001b[38;5;241m%\u001b[39m (filename \u001b[38;5;28;01mif\u001b[39;00m filename \u001b[38;5;28;01melse\u001b[39;00m fp)\n\u001b[0;32m-> 3298\u001b[0m \u001b[38;5;28;01mraise\u001b[39;00m UnidentifiedImageError(msg)\n",
      "\u001b[0;31mUnidentifiedImageError\u001b[0m: cannot identify image file 'rasters/raw/daa18714-d0dd-4a6b-8824-ea3819305e7d_22_pre.tif'"
     ]
    }
   ],
   "source": [
    "img_pre = Image.open(data['images'][0]['file_name'])\n",
    "image = ToTensor()(image)"
   ]
  },
  {
   "cell_type": "code",
   "execution_count": 27,
   "id": "c3b5dde4-a020-4045-91da-7cfb97409e0d",
   "metadata": {},
   "outputs": [
    {
     "data": {
      "text/plain": [
       "array([[[   0,    0,    0, ...,    0,    0,    0],\n",
       "        [   0,    0,    0, ...,    0,    0,    0],\n",
       "        [   0,    0,    0, ...,    0,    0,    0],\n",
       "        ...,\n",
       "        [ 233,  240,  229, ...,  109,  123,  144],\n",
       "        [ 271,  281,  259, ...,  120,  126,  135],\n",
       "        [ 290,  300,  276, ...,  128,  119,  114]],\n",
       "\n",
       "       [[   0,    0,    0, ...,    0,    0,    0],\n",
       "        [   0,    0,    0, ...,    0,    0,    0],\n",
       "        [   0,    0,    0, ...,    0,    0,    0],\n",
       "        ...,\n",
       "        [ 394,  270,  249, ...,  169,   97,  209],\n",
       "        [ 356,  309,  253, ...,  163,   83,  123],\n",
       "        [ 575,  392,  291, ...,  248,  196,  194]],\n",
       "\n",
       "       [[   0,    0,    0, ...,    0,    0,    0],\n",
       "        [   0,    0,    0, ...,    0,    0,    0],\n",
       "        [   0,    0,    0, ...,    0,    0,    0],\n",
       "        ...,\n",
       "        [ 571,  433,  493, ...,  261,  221,  329],\n",
       "        [ 497,  530,  480, ...,  305,  203,  233],\n",
       "        [ 859,  648,  536, ...,  437,  347,  305]],\n",
       "\n",
       "       ...,\n",
       "\n",
       "       [[   0,    0,    0, ...,    0,    0,    0],\n",
       "        [   0,    0,    0, ...,    0,    0,    0],\n",
       "        [   0,    0,    0, ...,    0,    0,    0],\n",
       "        ...,\n",
       "        [2692, 2779, 2813, ..., 1841, 1682, 1598],\n",
       "        [3022, 3059, 2991, ..., 1907, 1758, 1666],\n",
       "        [3272, 3270, 3191, ..., 1905, 1714, 1579]],\n",
       "\n",
       "       [[   0,    0,    0, ...,    0,    0,    0],\n",
       "        [   0,    0,    0, ...,    0,    0,    0],\n",
       "        [   0,    0,    0, ...,    0,    0,    0],\n",
       "        ...,\n",
       "        [1377, 1347, 1512, ..., 1049,  933, 1085],\n",
       "        [1579, 1836, 1686, ..., 1150,  994,  951],\n",
       "        [1953, 1999, 1733, ..., 1511, 1158, 1176]],\n",
       "\n",
       "       [[   0,    0,    0, ...,    0,    0,    0],\n",
       "        [   0,    0,    0, ...,    0,    0,    0],\n",
       "        [   0,    0,    0, ...,    0,    0,    0],\n",
       "        ...,\n",
       "        [ 934,  792,  760, ...,  593,  506,  691],\n",
       "        [1073, 1122,  878, ...,  639,  515,  542],\n",
       "        [1409, 1309,  913, ...,  917,  685,  690]]], dtype=uint16)"
      ]
     },
     "execution_count": 27,
     "metadata": {},
     "output_type": "execute_result"
    }
   ],
   "source": [
    "img_pre = rasterio.open('rasters/raw/ee00694d-3d15-4e5d-a627-5f4db851ff72_3_pre.tif').read()\n",
    "\n",
    "img_pre"
   ]
  },
  {
   "cell_type": "code",
   "execution_count": 72,
   "id": "15151cf4-4719-4597-bbf6-12559acbc53c",
   "metadata": {},
   "outputs": [],
   "source": [
    "import rasterio\n",
    "import glob\n",
    "from skimage import transform"
   ]
  },
  {
   "cell_type": "code",
   "execution_count": 61,
   "id": "63263afb-7169-4479-a43a-b4574e3a5b12",
   "metadata": {},
   "outputs": [],
   "source": [
    "json_dir = '../CHABUD/vectors/Original_Split-20230524T135331/MASK'"
   ]
  },
  {
   "cell_type": "code",
   "execution_count": 80,
   "id": "42778826-5b77-4bd8-a013-94818bd9c444",
   "metadata": {},
   "outputs": [
    {
     "data": {
      "text/plain": [
       "(12, 356, 512)"
      ]
     },
     "execution_count": 80,
     "metadata": {},
     "output_type": "execute_result"
    }
   ],
   "source": [
    "img_pre = rasterio.open('../CHABUD/rasters/raw/058dcb9e-f349-40bf-868b-7afa8dc9bb5a_0_post.tif').read()\n",
    "img = transform.resize(img_pre, (12,256, 256))\n",
    "img.shape\n",
    "img_pre.shape"
   ]
  },
  {
   "cell_type": "code",
   "execution_count": 81,
   "id": "d72003c3-cfda-41b9-a656-2ea55033462b",
   "metadata": {},
   "outputs": [],
   "source": [
    "import torch.nn as nn"
   ]
  },
  {
   "cell_type": "code",
   "execution_count": null,
   "id": "a77f58c7-ac54-45ae-807a-6c4de338b4de",
   "metadata": {},
   "outputs": [],
   "source": [
    "criterion = nn.CrossEntropyLoss"
   ]
  },
  {
   "cell_type": "code",
   "execution_count": 86,
   "id": "422bbe49-cfa5-4d8c-97db-043073ba3e85",
   "metadata": {},
   "outputs": [],
   "source": [
    "import bidate_model "
   ]
  },
  {
   "cell_type": "code",
   "execution_count": null,
   "id": "0f656850-1d31-48c1-9f44-607f8f46b13f",
   "metadata": {},
   "outputs": [],
   "source": []
  },
  {
   "cell_type": "code",
   "execution_count": null,
   "id": "58521e7f-a199-41fe-b305-45cf3b0e7d5b",
   "metadata": {},
   "outputs": [],
   "source": []
  }
 ],
 "metadata": {
  "kernelspec": {
   "display_name": "Python 3 (ipykernel)",
   "language": "python",
   "name": "python3"
  },
  "language_info": {
   "codemirror_mode": {
    "name": "ipython",
    "version": 3
   },
   "file_extension": ".py",
   "mimetype": "text/x-python",
   "name": "python",
   "nbconvert_exporter": "python",
   "pygments_lexer": "ipython3",
   "version": "3.10.9"
  }
 },
 "nbformat": 4,
 "nbformat_minor": 5
}
