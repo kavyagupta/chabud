{
 "cells": [
  {
   "cell_type": "code",
   "execution_count": 53,
   "id": "fb995c39-bf7c-4dab-a441-4320608b43e0",
   "metadata": {},
   "outputs": [],
   "source": [
    "from torch import nn, Tensor\n",
    "from torch.nn import functional as F\n",
    "\n",
    "from torchvision.models.segmentation.deeplabv3 import IntermediateLayerGetter, DeepLabHead\n",
    "from torchvision.models import resnet50, mobilenet_v3_large"
   ]
  },
  {
   "cell_type": "code",
   "execution_count": 50,
   "id": "003b3cbb-548a-4e66-ab9a-cb9e443a2553",
   "metadata": {},
   "outputs": [],
   "source": [
    "class SimpleChangeDetectionModel(nn.Module):\n",
    "    def __init__(self, backbone: nn.Module, classifier: nn.Module) -> None:\n",
    "        super().__init__()\n",
    "        self.backbone = backbone\n",
    "        self.classifier = classifier\n",
    "\n",
    "    def forward(self, x1: Tensor, x2: Tensor) -> Tensor:\n",
    "        input_shape = x1.shape[-2:]\n",
    "        # contract: features is a dict of tensors\n",
    "        features1 = self.backbone(x1)\n",
    "        features2 = self.backbone(x2)\n",
    "        \n",
    "        x1 = features1[\"out\"]\n",
    "        x2 = features2[\"out\"]\n",
    "        out = torch.concat([x1, x2], dim=1)\n",
    "        out = self.classifier(out)\n",
    "        out = F.interpolate(out, size=input_shape, mode=\"bilinear\", align_corners=False)\n",
    "        \n",
    "        return out"
   ]
  },
  {
   "cell_type": "code",
   "execution_count": 51,
   "id": "44906bf3-8bcf-4430-8551-60135738de39",
   "metadata": {},
   "outputs": [],
   "source": [
    "backbone = resnet50(weights=None, replace_stride_with_dilation=[False, True, True])\n",
    "conv1 = backbone.conv1\n",
    "backbone.conv1 = nn.Conv2d(in_channels=12, \n",
    "                           out_channels=conv1.out_channels, \n",
    "                           kernel_size=conv1.kernel_size, stride=conv1.stride, \n",
    "                           padding=conv1.padding, bias=conv1.bias)\n",
    "\n",
    "return_layers = {\"layer4\": \"out\"}\n",
    "    \n",
    "backbone = IntermediateLayerGetter(backbone, return_layers=return_layers)\n",
    "\n",
    "classifier = DeepLabHead(2048 * 2, 2)\n",
    "model = SimpleChangeDetectionModel(backbone, classifier)\n"
   ]
  },
  {
   "cell_type": "code",
   "execution_count": 52,
   "id": "4a3e6a61-ca8e-4844-886b-58065fa0c5f1",
   "metadata": {},
   "outputs": [
    {
     "name": "stdout",
     "output_type": "stream",
     "text": [
      "torch.Size([2, 2048, 64, 64])\n"
     ]
    },
    {
     "data": {
      "text/plain": [
       "torch.Size([2, 2, 512, 512])"
      ]
     },
     "execution_count": 52,
     "metadata": {},
     "output_type": "execute_result"
    }
   ],
   "source": [
    "inp = torch.zeros(2, 12, 512, 512)\n",
    "model(inp, inp).shape"
   ]
  },
  {
   "cell_type": "code",
   "execution_count": null,
   "id": "cc94de58-1825-4ab0-b4e7-ed80e1130815",
   "metadata": {},
   "outputs": [],
   "source": []
  }
 ],
 "metadata": {
  "kernelspec": {
   "display_name": "Python 3 (ipykernel)",
   "language": "python",
   "name": "python3"
  },
  "language_info": {
   "codemirror_mode": {
    "name": "ipython",
    "version": 3
   },
   "file_extension": ".py",
   "mimetype": "text/x-python",
   "name": "python",
   "nbconvert_exporter": "python",
   "pygments_lexer": "ipython3",
   "version": "3.10.4"
  }
 },
 "nbformat": 4,
 "nbformat_minor": 5
}
