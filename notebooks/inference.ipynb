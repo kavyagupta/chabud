{
 "cells": [
  {
   "cell_type": "code",
   "execution_count": 10,
   "id": "856ed4a8-d50e-4776-9fc7-0219fdac2abf",
   "metadata": {},
   "outputs": [
    {
     "ename": "ModuleNotFoundError",
     "evalue": "No module named 'utils'",
     "output_type": "error",
     "traceback": [
      "\u001b[0;31m---------------------------------------------------------------------------\u001b[0m",
      "\u001b[0;31mModuleNotFoundError\u001b[0m                       Traceback (most recent call last)",
      "Cell \u001b[0;32mIn[10], line 3\u001b[0m\n\u001b[1;32m      1\u001b[0m \u001b[38;5;28;01mimport\u001b[39;00m \u001b[38;5;21;01mtorch\u001b[39;00m\n\u001b[1;32m      2\u001b[0m \u001b[38;5;28;01mfrom\u001b[39;00m \u001b[38;5;21;01mtorch\u001b[39;00m\u001b[38;5;21;01m.\u001b[39;00m\u001b[38;5;21;01mutils\u001b[39;00m\u001b[38;5;21;01m.\u001b[39;00m\u001b[38;5;21;01mdata\u001b[39;00m \u001b[38;5;28;01mimport\u001b[39;00m DataLoader\n\u001b[0;32m----> 3\u001b[0m \u001b[38;5;28;01mfrom\u001b[39;00m \u001b[38;5;21;01mutils\u001b[39;00m\u001b[38;5;21;01m.\u001b[39;00m\u001b[38;5;21;01mchabud_dataloader\u001b[39;00m \u001b[38;5;28;01mimport\u001b[39;00m ChabudDataset\n",
      "\u001b[0;31mModuleNotFoundError\u001b[0m: No module named 'utils'"
     ]
    }
   ],
   "source": [
    "import sys \n",
    "\n",
    "simport torch\n",
    "from torch.utils.data import DataLoader\n",
    "from utils.chabud_dataloader import ChabudDataset"
   ]
  },
  {
   "cell_type": "code",
   "execution_count": null,
   "id": "0663807a-71fc-4218-afb0-a3d978d5161e",
   "metadata": {},
   "outputs": [],
   "source": [
    "chabud_val = ChabudDataset(\n",
    "        data_root=args.data_root,\n",
    "        json_dir=args.vector_dir,\n",
    "        data_list=val_list,\n",
    "        window=args.window\n",
    "    )"
   ]
  },
  {
   "cell_type": "code",
   "execution_count": null,
   "id": "dbc1c1d3-d6e7-4917-b030-afa6c2bf8422",
   "metadata": {},
   "outputs": [],
   "source": [
    "checkpoint = torch.load(PATH)"
   ]
  },
  {
   "cell_type": "code",
   "execution_count": 2,
   "id": "9fc8ad71-3613-4546-b814-753a7b8d7587",
   "metadata": {},
   "outputs": [],
   "source": [
    "def val(val_loader, net, criterion, device):\n",
    "    net.eval()\n",
    "\n",
    "    running_loss = 0.0\n",
    "    running_score = 0.0\n",
    "\n",
    "    for pre, post, mask in tqdm(val_loader):\n",
    "        # get the inputs; data is a list of [inputs, labels]\n",
    "        pre, post, mask = pre.to(device), post.to(device), mask.to(device)\n",
    "\n",
    "        outputs = net(pre, post)\n",
    "        loss = criterion(outputs, mask.long())\n",
    "\n",
    "        outputs = torch.argmax(outputs, axis=1)\n",
    "        score = dice(outputs, mask)\n",
    "        \n",
    "        running_loss += loss.item()\n",
    "        running_score += score.item()\n",
    "\n",
    "    return running_loss / len(val_loader), running_score / len(val_loader)"
   ]
  },
  {
   "cell_type": "code",
   "execution_count": null,
   "id": "52b0be48-ce60-4a29-8902-43a936239cba",
   "metadata": {},
   "outputs": [],
   "source": [
    "avg_vloss, avg_vscore = val(val_loader=val_loader, net=net, \n",
    "                                     criterion=criterion, device=device)\n",
    "        \n",
    "print(\"Val loss {} dice {}\".format(avg_vloss, avg_vscore))"
   ]
  },
  {
   "cell_type": "code",
   "execution_count": null,
   "id": "971e3eb5-498d-4cc9-af65-6ee6f6012655",
   "metadata": {},
   "outputs": [],
   "source": []
  }
 ],
 "metadata": {
  "kernelspec": {
   "display_name": "Python 3 (ipykernel)",
   "language": "python",
   "name": "python3"
  },
  "language_info": {
   "codemirror_mode": {
    "name": "ipython",
    "version": 3
   },
   "file_extension": ".py",
   "mimetype": "text/x-python",
   "name": "python",
   "nbconvert_exporter": "python",
   "pygments_lexer": "ipython3",
   "version": "3.11.3"
  }
 },
 "nbformat": 4,
 "nbformat_minor": 5
}
