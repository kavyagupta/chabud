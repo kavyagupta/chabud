{
 "cells": [
  {
   "cell_type": "code",
   "execution_count": 35,
   "id": "856ed4a8-d50e-4776-9fc7-0219fdac2abf",
   "metadata": {},
   "outputs": [],
   "source": [
    "import sys \n",
    "import json\n",
    "\n",
    "sys.path.append('../')\n",
    "\n",
    "import torch\n",
    "from torch.utils.data import DataLoader\n",
    "from utils.chabud_dataloader import ChabudDataset\n",
    "from utils.args import parse_args\n",
    "from models.bidate_model import BiDateNet"
   ]
  },
  {
   "cell_type": "code",
   "execution_count": 29,
   "id": "e7876b8f-b462-4033-b74c-4607c8495c7c",
   "metadata": {},
   "outputs": [],
   "source": [
    "fin = open('../engine_config.json')\n",
    "metadata = json.load(fin)\n",
    "fin.close()\n",
    "device = torch.device(\"cuda:0\")\n",
    "########Dataloaders #################\n",
    "    \n",
    "f = open(f\"{'../data'}/{'vectors/Original_Split-20230524T135331/MASK'}/metadata.json\")\n",
    "data = json.load(f)\n",
    "train_list = data[\"dataset\"][\"train\"]\n",
    "val_list = data[\"dataset\"][\"val\"]"
   ]
  },
  {
   "cell_type": "code",
   "execution_count": 31,
   "id": "0663807a-71fc-4218-afb0-a3d978d5161e",
   "metadata": {},
   "outputs": [],
   "source": [
    "chabud_val = ChabudDataset(\n",
    "        data_root='./data',\n",
    "        json_dir=\"vectors/Original_Split-20230524T135331/MASK\",\n",
    "        data_list=val_list,\n",
    "        window=512\n",
    "    )"
   ]
  },
  {
   "cell_type": "code",
   "execution_count": 32,
   "id": "a2df44ec-4264-4bfd-bb74-9d45c9444fde",
   "metadata": {},
   "outputs": [],
   "source": [
    "from torchmetrics.functional.classification import multiclass_jaccard_index"
   ]
  },
  {
   "cell_type": "code",
   "execution_count": 47,
   "id": "dbc1c1d3-d6e7-4917-b030-afa6c2bf8422",
   "metadata": {},
   "outputs": [],
   "source": [
    "model = BiDateNet(n_channels=12, n_classes=2)\n",
    "weights = torch.load('../checkpoints/bidate_unet_20230603T071009/epoch_13.pt')\n",
    "model.load_state_dict(weights)\n",
    "_ = model.eval()"
   ]
  },
  {
   "cell_type": "code",
   "execution_count": 2,
   "id": "9fc8ad71-3613-4546-b814-753a7b8d7587",
   "metadata": {},
   "outputs": [],
   "source": []
  },
  {
   "cell_type": "code",
   "execution_count": null,
   "id": "52b0be48-ce60-4a29-8902-43a936239cba",
   "metadata": {},
   "outputs": [],
   "source": []
  },
  {
   "cell_type": "code",
   "execution_count": null,
   "id": "971e3eb5-498d-4cc9-af65-6ee6f6012655",
   "metadata": {},
   "outputs": [],
   "source": []
  }
 ],
 "metadata": {
  "kernelspec": {
   "display_name": "Python 3 (ipykernel)",
   "language": "python",
   "name": "python3"
  },
  "language_info": {
   "codemirror_mode": {
    "name": "ipython",
    "version": 3
   },
   "file_extension": ".py",
   "mimetype": "text/x-python",
   "name": "python",
   "nbconvert_exporter": "python",
   "pygments_lexer": "ipython3",
   "version": "3.11.3"
  }
 },
 "nbformat": 4,
 "nbformat_minor": 5
}
